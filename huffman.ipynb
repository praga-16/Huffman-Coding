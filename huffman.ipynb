{
  "nbformat": 4,
  "nbformat_minor": 0,
  "metadata": {
    "colab": {
      "provenance": []
    },
    "kernelspec": {
      "name": "python3",
      "display_name": "Python 3"
    },
    "language_info": {
      "name": "python"
    }
  },
  "cells": [
    {
      "cell_type": "code",
      "execution_count": 29,
      "metadata": {
        "colab": {
          "base_uri": "https://localhost:8080/"
        },
        "id": "pDYEzZsmRGCt",
        "outputId": "c6e0c632-f5cf-4a04-b383-1663f441b28e"
      },
      "outputs": [
        {
          "name": "stdout",
          "output_type": "stream",
          "text": [
            "Enter a StringGuna 2122212\n"
          ]
        }
      ],
      "source": [
        "string =input(\"Enter a String\")\n"
      ]
    },
    {
      "cell_type": "code",
      "source": [
        "class NodeTree(object):\n",
        "  def __init__(self,left=None,right=None):\n",
        "    self.left=left\n",
        "    self.right=right\n",
        "    \n",
        "  def children(self):\n",
        "    return(self.left,self.right)"
      ],
      "metadata": {
        "id": "jdxBJEjbRcV6"
      },
      "execution_count": 58,
      "outputs": []
    },
    {
      "cell_type": "code",
      "source": [
        "#Main function implementing huffman coding\n",
        "\n",
        "def huffman_code_tree(node,left=True,binString=''):\n",
        "  if type(node) is str:\n",
        "    return{node: binString}\n",
        "  (l,r) = node.children()\n",
        "  d=dict()\n",
        "  d.update(huffman_code_tree(l,True,binString +'0'))\n",
        "  d.update(huffman_code_tree(r,False,binString +'1'))\n",
        "  return d"
      ],
      "metadata": {
        "id": "qk-YGaZNSIM5"
      },
      "execution_count": 72,
      "outputs": []
    },
    {
      "cell_type": "code",
      "source": [
        "#Calculating frequency\n",
        "\n",
        "freq={}\n",
        "for c in string:\n",
        "  if c in freq:\n",
        "    freq[c] +=1\n",
        "  \n",
        "  else:\n",
        "    freq[c] = 1\n",
        "\n",
        "freq=sorted(freq.items(),key=lambda x: x[1],reverse=True)\n",
        "nodes=freq"
      ],
      "metadata": {
        "id": "vM43cud2S8Ws"
      },
      "execution_count": 73,
      "outputs": []
    },
    {
      "cell_type": "code",
      "source": [
        "while len(nodes)>1:\n",
        "  (key1,c1)=nodes[-1]\n",
        "  (key2,c2)=nodes[-2]\n",
        "  nodes=nodes[:-2]\n",
        "  node =NodeTree(key1,key2)\n",
        "  nodes.append((node,c1+c2))\n",
        "  nodes=sorted(nodes,key=lambda x: x[1],reverse=True)"
      ],
      "metadata": {
        "id": "a_NtJAvuTVIs"
      },
      "execution_count": 74,
      "outputs": []
    },
    {
      "cell_type": "code",
      "source": [
        "huffmanCode = huffman_code_tree(nodes[0][0])\n",
        "\n",
        "print(' Char | Huffman code ')\n",
        "print('----------------------')\n",
        "for (char,frequency) in freq:\n",
        "    print(' %-4r |%12s' % (char,huffmanCode[char]))"
      ],
      "metadata": {
        "colab": {
          "base_uri": "https://localhost:8080/"
        },
        "id": "5wY00WiiTxZE",
        "outputId": "bc431170-c6c7-4f8d-cfb7-74f26e665276"
      },
      "execution_count": 76,
      "outputs": [
        {
          "output_type": "stream",
          "name": "stdout",
          "text": [
            " Char | Huffman code \n",
            "----------------------\n",
            " '2'  |           0\n",
            " '1'  |         111\n",
            " 'G'  |         100\n",
            " 'u'  |        1011\n",
            " 'n'  |        1010\n",
            " 'a'  |        1101\n",
            " ' '  |        1100\n"
          ]
        }
      ]
    },
    {
      "cell_type": "code",
      "source": [
        "  "
      ],
      "metadata": {
        "id": "mUfXjIVsV_HV"
      },
      "execution_count": null,
      "outputs": []
    }
  ]
}